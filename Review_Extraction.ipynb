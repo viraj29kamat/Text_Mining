{
 "cells": [
  {
   "cell_type": "code",
   "execution_count": 1,
   "metadata": {},
   "outputs": [],
   "source": [
    "import pandas as pd\n",
    "import requests\n",
    "from bs4 import BeautifulSoup as bs"
   ]
  },
  {
   "cell_type": "code",
   "execution_count": 2,
   "metadata": {},
   "outputs": [],
   "source": [
    "link=\"https://www.amazon.in/Nike-Mens-Vapormax-Running-Shoes/product-reviews/B07ZQ71J9J/ref=cm_cr_dp_d_show_all_btm?ie=UTF8&reviewerType=all_reviews\""
   ]
  },
  {
   "cell_type": "code",
   "execution_count": 3,
   "metadata": {},
   "outputs": [],
   "source": [
    "page=requests.get(link)"
   ]
  },
  {
   "cell_type": "code",
   "execution_count": 6,
   "metadata": {},
   "outputs": [],
   "source": [
    "soup=bs(page.content,'html.parser')"
   ]
  },
  {
   "cell_type": "code",
   "execution_count": 7,
   "metadata": {},
   "outputs": [],
   "source": [
    "names=soup.find_all('span',class_='a-profile-name')"
   ]
  },
  {
   "cell_type": "code",
   "execution_count": 8,
   "metadata": {},
   "outputs": [
    {
     "data": {
      "text/plain": [
       "[<span class=\"a-profile-name\">Anurag</span>,\n",
       " <span class=\"a-profile-name\">Mahesh Kumar</span>,\n",
       " <span class=\"a-profile-name\">Mahesh Kumar</span>,\n",
       " <span class=\"a-profile-name\">vai8hav mishra</span>,\n",
       " <span class=\"a-profile-name\">Dr Dilip Shah</span>,\n",
       " <span class=\"a-profile-name\">Anurag</span>,\n",
       " <span class=\"a-profile-name\">Sathish</span>,\n",
       " <span class=\"a-profile-name\">Atul Bagai</span>,\n",
       " <span class=\"a-profile-name\">Binay Kumar Singh</span>,\n",
       " <span class=\"a-profile-name\">Siddhant patel</span>,\n",
       " <span class=\"a-profile-name\">greens</span>,\n",
       " <span class=\"a-profile-name\">Himanshu</span>]"
      ]
     },
     "execution_count": 8,
     "metadata": {},
     "output_type": "execute_result"
    }
   ],
   "source": [
    "names"
   ]
  },
  {
   "cell_type": "code",
   "execution_count": 9,
   "metadata": {},
   "outputs": [
    {
     "data": {
      "text/plain": [
       "12"
      ]
     },
     "execution_count": 9,
     "metadata": {},
     "output_type": "execute_result"
    }
   ],
   "source": [
    "len(names)"
   ]
  },
  {
   "cell_type": "code",
   "execution_count": 10,
   "metadata": {},
   "outputs": [],
   "source": [
    "cust_name=[]\n",
    "for i in range(0,len(names)):\n",
    "    cust_name.append(names[i].get_text())"
   ]
  },
  {
   "cell_type": "code",
   "execution_count": 11,
   "metadata": {},
   "outputs": [
    {
     "data": {
      "text/plain": [
       "['Anurag',\n",
       " 'Mahesh Kumar',\n",
       " 'Mahesh Kumar',\n",
       " 'vai8hav mishra',\n",
       " 'Dr Dilip Shah',\n",
       " 'Anurag',\n",
       " 'Sathish',\n",
       " 'Atul Bagai',\n",
       " 'Binay Kumar Singh',\n",
       " 'Siddhant patel',\n",
       " 'greens',\n",
       " 'Himanshu']"
      ]
     },
     "execution_count": 11,
     "metadata": {},
     "output_type": "execute_result"
    }
   ],
   "source": [
    "cust_name"
   ]
  },
  {
   "cell_type": "code",
   "execution_count": 12,
   "metadata": {},
   "outputs": [
    {
     "data": {
      "text/plain": [
       "'Anurag'"
      ]
     },
     "execution_count": 12,
     "metadata": {},
     "output_type": "execute_result"
    }
   ],
   "source": [
    "cust_name.pop(0)"
   ]
  },
  {
   "cell_type": "code",
   "execution_count": 13,
   "metadata": {},
   "outputs": [
    {
     "data": {
      "text/plain": [
       "'Mahesh Kumar'"
      ]
     },
     "execution_count": 13,
     "metadata": {},
     "output_type": "execute_result"
    }
   ],
   "source": [
    "cust_name.pop(0)"
   ]
  },
  {
   "cell_type": "code",
   "execution_count": 14,
   "metadata": {},
   "outputs": [
    {
     "data": {
      "text/plain": [
       "['Mahesh Kumar',\n",
       " 'vai8hav mishra',\n",
       " 'Dr Dilip Shah',\n",
       " 'Anurag',\n",
       " 'Sathish',\n",
       " 'Atul Bagai',\n",
       " 'Binay Kumar Singh',\n",
       " 'Siddhant patel',\n",
       " 'greens',\n",
       " 'Himanshu']"
      ]
     },
     "execution_count": 14,
     "metadata": {},
     "output_type": "execute_result"
    }
   ],
   "source": [
    "cust_name"
   ]
  },
  {
   "cell_type": "code",
   "execution_count": 15,
   "metadata": {},
   "outputs": [],
   "source": [
    "title=soup.find_all('a',class_='review-title-content')"
   ]
  },
  {
   "cell_type": "code",
   "execution_count": 16,
   "metadata": {},
   "outputs": [
    {
     "data": {
      "text/plain": [
       "[<a class=\"a-size-base a-link-normal review-title a-color-base review-title-content a-text-bold\" data-hook=\"review-title\" href=\"/gp/customer-reviews/R3TACDRE2U3AN8?ASIN=B07ZQ71J9J\">\n",
       " <span>Bad</span>\n",
       " </a>,\n",
       " <a class=\"a-size-base a-link-normal review-title a-color-base review-title-content a-text-bold\" data-hook=\"review-title\" href=\"/gp/customer-reviews/RETQEWEOB3VOU?ASIN=B07ZQ71J9J\">\n",
       " <span>They send me 1st copy shoes</span>\n",
       " </a>,\n",
       " <a class=\"a-size-base a-link-normal review-title a-color-base review-title-content a-text-bold\" data-hook=\"review-title\" href=\"/gp/customer-reviews/RGY0M1A2RFJ85?ASIN=B07ZQ71J9J\">\n",
       " <span>Squeaker are the Vapormax of Nike</span>\n",
       " </a>,\n",
       " <a class=\"a-size-base a-link-normal review-title a-color-base review-title-content a-text-bold\" data-hook=\"review-title\" href=\"/gp/customer-reviews/RLDG81V1OQ3YU?ASIN=B07ZQ71J9J\">\n",
       " <span>Looks good</span>\n",
       " </a>,\n",
       " <a class=\"a-size-base a-link-normal review-title a-color-base review-title-content a-text-bold\" data-hook=\"review-title\" href=\"/gp/customer-reviews/R27JI5XDUMGLHC?ASIN=B07ZQ71J9J\">\n",
       " <span>Stylish n people can’t stop looking at your shoes</span>\n",
       " </a>,\n",
       " <a class=\"a-size-base a-link-normal review-title a-color-base review-title-content a-text-bold\" data-hook=\"review-title\" href=\"/gp/customer-reviews/RMW0R0LIQ03MR?ASIN=B07ZQ71J9J\">\n",
       " <span>Vapourmax Shoes</span>\n",
       " </a>,\n",
       " <a class=\"a-size-base a-link-normal review-title a-color-base review-title-content a-text-bold\" data-hook=\"review-title\" href=\"/gp/customer-reviews/R2T3UIDKTST01W?ASIN=B07ZQ71J9J\">\n",
       " <span>Its a scam, the shoe is completely fake</span>\n",
       " </a>,\n",
       " <a class=\"a-size-base a-link-normal review-title a-color-base review-title-content a-text-bold\" data-hook=\"review-title\" href=\"/gp/customer-reviews/RVYR6SYA91RM4?ASIN=B07ZQ71J9J\">\n",
       " <span>World best shoes</span>\n",
       " </a>,\n",
       " <a class=\"a-size-base a-link-normal review-title a-color-base review-title-content a-text-bold\" data-hook=\"review-title\" href=\"/gp/customer-reviews/R1TE464OKEIUC2?ASIN=B07ZQ71J9J\">\n",
       " <span>ORIGINAL ✅NIKE👍</span>\n",
       " </a>,\n",
       " <a class=\"a-size-base a-link-normal review-title a-color-base review-title-content a-text-bold\" data-hook=\"review-title\" href=\"/gp/customer-reviews/R24GHMYQDA0ENB?ASIN=B07ZQ71J9J\">\n",
       " <span>Not satisfied</span>\n",
       " </a>]"
      ]
     },
     "execution_count": 16,
     "metadata": {},
     "output_type": "execute_result"
    }
   ],
   "source": [
    "title"
   ]
  },
  {
   "cell_type": "code",
   "execution_count": 17,
   "metadata": {},
   "outputs": [
    {
     "data": {
      "text/plain": [
       "['\\nBad\\n',\n",
       " '\\nThey send me 1st copy shoes\\n',\n",
       " '\\nSqueaker are the Vapormax of Nike\\n',\n",
       " '\\nLooks good\\n',\n",
       " '\\nStylish n people can’t stop looking at your shoes\\n',\n",
       " '\\nVapourmax Shoes\\n',\n",
       " '\\nIts a scam, the shoe is completely fake\\n',\n",
       " '\\nWorld best shoes\\n',\n",
       " '\\nORIGINAL ✅NIKE👍\\n',\n",
       " '\\nNot satisfied\\n']"
      ]
     },
     "execution_count": 17,
     "metadata": {},
     "output_type": "execute_result"
    }
   ],
   "source": [
    "review_title=[]\n",
    "for i in range(0,len(title)):\n",
    "    review_title.append(title[i].get_text())\n",
    "review_title"
   ]
  },
  {
   "cell_type": "code",
   "execution_count": 18,
   "metadata": {},
   "outputs": [
    {
     "data": {
      "text/plain": [
       "['Bad\\n',\n",
       " 'They send me 1st copy shoes\\n',\n",
       " 'Squeaker are the Vapormax of Nike\\n',\n",
       " 'Looks good\\n',\n",
       " 'Stylish n people can’t stop looking at your shoes\\n',\n",
       " 'Vapourmax Shoes\\n',\n",
       " 'Its a scam, the shoe is completely fake\\n',\n",
       " 'World best shoes\\n',\n",
       " 'ORIGINAL ✅NIKE👍\\n',\n",
       " 'Not satisfied\\n']"
      ]
     },
     "execution_count": 18,
     "metadata": {},
     "output_type": "execute_result"
    }
   ],
   "source": [
    "review_title[:]=[titles.lstrip('\\n') for titles in review_title]\n",
    "review_title"
   ]
  },
  {
   "cell_type": "code",
   "execution_count": 19,
   "metadata": {},
   "outputs": [
    {
     "data": {
      "text/plain": [
       "['Bad',\n",
       " 'They send me 1st copy shoes',\n",
       " 'Squeaker are the Vapormax of Nike',\n",
       " 'Looks good',\n",
       " 'Stylish n people can’t stop looking at your shoes',\n",
       " 'Vapourmax Shoes',\n",
       " 'Its a scam, the shoe is completely fake',\n",
       " 'World best shoes',\n",
       " 'ORIGINAL ✅NIKE👍',\n",
       " 'Not satisfied']"
      ]
     },
     "execution_count": 19,
     "metadata": {},
     "output_type": "execute_result"
    }
   ],
   "source": [
    "review_title[:]=[titles.rstrip('\\n') for titles in review_title]\n",
    "review_title"
   ]
  },
  {
   "cell_type": "code",
   "execution_count": 20,
   "metadata": {},
   "outputs": [],
   "source": [
    "rating=soup.find_all('i',class_='review-rating')"
   ]
  },
  {
   "cell_type": "code",
   "execution_count": 21,
   "metadata": {},
   "outputs": [
    {
     "data": {
      "text/plain": [
       "[<i class=\"a-icon a-icon-star a-star-4 review-rating\" data-hook=\"review-star-rating-view-point\"><span class=\"a-icon-alt\">4.0 out of 5 stars</span></i>,\n",
       " <i class=\"a-icon a-icon-star a-star-1 review-rating\" data-hook=\"review-star-rating-view-point\"><span class=\"a-icon-alt\">1.0 out of 5 stars</span></i>,\n",
       " <i class=\"a-icon a-icon-star a-star-1 review-rating\" data-hook=\"review-star-rating\"><span class=\"a-icon-alt\">1.0 out of 5 stars</span></i>,\n",
       " <i class=\"a-icon a-icon-star a-star-1 review-rating\" data-hook=\"review-star-rating\"><span class=\"a-icon-alt\">1.0 out of 5 stars</span></i>,\n",
       " <i class=\"a-icon a-icon-star a-star-2 review-rating\" data-hook=\"review-star-rating\"><span class=\"a-icon-alt\">2.0 out of 5 stars</span></i>,\n",
       " <i class=\"a-icon a-icon-star a-star-4 review-rating\" data-hook=\"review-star-rating\"><span class=\"a-icon-alt\">4.0 out of 5 stars</span></i>,\n",
       " <i class=\"a-icon a-icon-star a-star-4 review-rating\" data-hook=\"review-star-rating\"><span class=\"a-icon-alt\">4.0 out of 5 stars</span></i>,\n",
       " <i class=\"a-icon a-icon-star a-star-2 review-rating\" data-hook=\"review-star-rating\"><span class=\"a-icon-alt\">2.0 out of 5 stars</span></i>,\n",
       " <i class=\"a-icon a-icon-star a-star-1 review-rating\" data-hook=\"review-star-rating\"><span class=\"a-icon-alt\">1.0 out of 5 stars</span></i>,\n",
       " <i class=\"a-icon a-icon-star a-star-5 review-rating\" data-hook=\"review-star-rating\"><span class=\"a-icon-alt\">5.0 out of 5 stars</span></i>,\n",
       " <i class=\"a-icon a-icon-star a-star-5 review-rating\" data-hook=\"review-star-rating\"><span class=\"a-icon-alt\">5.0 out of 5 stars</span></i>,\n",
       " <i class=\"a-icon a-icon-star a-star-2 review-rating\" data-hook=\"review-star-rating\"><span class=\"a-icon-alt\">2.0 out of 5 stars</span></i>]"
      ]
     },
     "execution_count": 21,
     "metadata": {},
     "output_type": "execute_result"
    }
   ],
   "source": [
    "rating"
   ]
  },
  {
   "cell_type": "code",
   "execution_count": 22,
   "metadata": {},
   "outputs": [
    {
     "data": {
      "text/plain": [
       "['4.0 out of 5 stars',\n",
       " '1.0 out of 5 stars',\n",
       " '1.0 out of 5 stars',\n",
       " '1.0 out of 5 stars',\n",
       " '2.0 out of 5 stars',\n",
       " '4.0 out of 5 stars',\n",
       " '4.0 out of 5 stars',\n",
       " '2.0 out of 5 stars',\n",
       " '1.0 out of 5 stars',\n",
       " '5.0 out of 5 stars',\n",
       " '5.0 out of 5 stars',\n",
       " '2.0 out of 5 stars']"
      ]
     },
     "execution_count": 22,
     "metadata": {},
     "output_type": "execute_result"
    }
   ],
   "source": [
    "rate=[]\n",
    "for i in range(0,len(rating)):\n",
    "    rate.append(rating[i].get_text())\n",
    "rate"
   ]
  },
  {
   "cell_type": "code",
   "execution_count": 23,
   "metadata": {},
   "outputs": [
    {
     "data": {
      "text/plain": [
       "12"
      ]
     },
     "execution_count": 23,
     "metadata": {},
     "output_type": "execute_result"
    }
   ],
   "source": [
    "len(rate)"
   ]
  },
  {
   "cell_type": "code",
   "execution_count": 24,
   "metadata": {},
   "outputs": [
    {
     "data": {
      "text/plain": [
       "'4.0 out of 5 stars'"
      ]
     },
     "execution_count": 24,
     "metadata": {},
     "output_type": "execute_result"
    }
   ],
   "source": [
    "rate.pop(0)"
   ]
  },
  {
   "cell_type": "code",
   "execution_count": 25,
   "metadata": {},
   "outputs": [
    {
     "data": {
      "text/plain": [
       "'1.0 out of 5 stars'"
      ]
     },
     "execution_count": 25,
     "metadata": {},
     "output_type": "execute_result"
    }
   ],
   "source": [
    "rate.pop(0)"
   ]
  },
  {
   "cell_type": "code",
   "execution_count": 26,
   "metadata": {},
   "outputs": [
    {
     "data": {
      "text/plain": [
       "10"
      ]
     },
     "execution_count": 26,
     "metadata": {},
     "output_type": "execute_result"
    }
   ],
   "source": [
    "len(rate)"
   ]
  },
  {
   "cell_type": "code",
   "execution_count": 27,
   "metadata": {},
   "outputs": [],
   "source": [
    "review=soup.find_all(\"span\",{\"data-hook\":\"review-body\"})"
   ]
  },
  {
   "cell_type": "code",
   "execution_count": 28,
   "metadata": {},
   "outputs": [
    {
     "data": {
      "text/plain": [
       "[<span class=\"a-size-base review-text review-text-content\" data-hook=\"review-body\">\n",
       " <span>\n",
       "   Change my item\n",
       " </span>\n",
       " </span>,\n",
       " <span class=\"a-size-base review-text review-text-content\" data-hook=\"review-body\">\n",
       " <span>\n",
       "   Fake product. With damaged box.\n",
       " </span>\n",
       " </span>,\n",
       " <span class=\"a-size-base review-text review-text-content\" data-hook=\"review-body\">\n",
       " <span>\n",
       "   Squeaking so badly it's embarrassing to walk in sophisticated places\n",
       " </span>\n",
       " </span>,\n",
       " <span class=\"a-size-base review-text review-text-content\" data-hook=\"review-body\">\n",
       " <span>\n",
       "   Doubtful by 5% on the authenticity. Looks and feels good rest will see how they go in a long run.\n",
       " </span>\n",
       " </span>,\n",
       " <span class=\"a-size-base review-text review-text-content\" data-hook=\"review-body\">\n",
       " <span>\n",
       "   Style - 5 star<br>Comfort -3 star<br/>This will make you famous but you would need insoles for additional comfort. Not recommended for runners. For gym is best ...\n",
       " </br></span>\n",
       " </span>,\n",
       " <span class=\"a-size-base review-text review-text-content\" data-hook=\"review-body\">\n",
       " <span>\n",
       "   it is not made like other vapourmax. This is made of too much plastic and not like the original knitted shoes of vapourmax. This shoe looks too like a raincoat made of plastic. I hope it isnt a fake vapourmax\n",
       " </span>\n",
       " </span>,\n",
       " <span class=\"a-size-base review-text review-text-content\" data-hook=\"review-body\">\n",
       " <span>\n",
       "   This shoe is a complete scam<br/><br/>1) It came in a half torn box<br/>2) has a very bad dull color<br/>3) its made completely out of the worst<br/>  quality reused plastic<br/><br/>4) your feet will ache while wearing them<br/>5) it squeaks while walking and gives no<br/>  support for comfort<br/><br/>6) the nike logo is attached by glue<br/>7) the size given is fake, and externally<br/>  attached outside the shoe<br/><br/>8) the shoe lace is from another shoe<br/>9) this shoe is a big red flag, since the<br/>  orginal starting price of a real vapormax<br/>  Is ₹19,000 and being sold at 7k seems to  .... Good to be true<br/><br/>10) the vapormax logo is also attached<br/>  externally by glue<br/><br/>This is completely fake\n",
       " </span>\n",
       " </span>,\n",
       " <span class=\"a-size-base review-text review-text-content\" data-hook=\"review-body\">\n",
       " <span>\n",
       "   I advise you to buy onces because I am also have two mind to buy but I finally buy and my choice is too best ...<br/>I very much happy to buy👌👌👌👌👌\n",
       " </span>\n",
       " </span>,\n",
       " <span class=\"a-size-base review-text review-text-content\" data-hook=\"review-body\">\n",
       " <span>\n",
       "   Bought these for my hubby.He loved these.They were just as described &amp; ORIGINAL NIKE👟.The size was right✅. Got the delivery on time as well.Thanks a lot to the seller &amp; Amazon that we got these on discounted price &amp; yet original😊\n",
       " </span>\n",
       " </span>,\n",
       " <span class=\"a-size-base review-text review-text-content\" data-hook=\"review-body\">\n",
       " <span>\n",
       "   Bad quality shoe. Toe Pains after running. Not worth. Better buy such costly shoes directly from the store after checking properly.\n",
       " </span>\n",
       " </span>]"
      ]
     },
     "execution_count": 28,
     "metadata": {},
     "output_type": "execute_result"
    }
   ],
   "source": [
    "review"
   ]
  },
  {
   "cell_type": "code",
   "execution_count": 29,
   "metadata": {},
   "outputs": [
    {
     "data": {
      "text/plain": [
       "['\\n\\n  Change my item\\n\\n',\n",
       " '\\n\\n  Fake product. With damaged box.\\n\\n',\n",
       " \"\\n\\n  Squeaking so badly it's embarrassing to walk in sophisticated places\\n\\n\",\n",
       " '\\n\\n  Doubtful by 5% on the authenticity. Looks and feels good rest will see how they go in a long run.\\n\\n',\n",
       " '\\n\\n  Style - 5 starComfort -3 starThis will make you famous but you would need insoles for additional comfort. Not recommended for runners. For gym is best ...\\n\\n',\n",
       " '\\n\\n  it is not made like other vapourmax. This is made of too much plastic and not like the original knitted shoes of vapourmax. This shoe looks too like a raincoat made of plastic. I hope it isnt a fake vapourmax\\n\\n',\n",
       " '\\n\\n  This shoe is a complete scam1) It came in a half torn box2) has a very bad dull color3) its made completely out of the worst  quality reused plastic4) your feet will ache while wearing them5) it squeaks while walking and gives no  support for comfort6) the nike logo is attached by glue7) the size given is fake, and externally  attached outside the shoe8) the shoe lace is from another shoe9) this shoe is a big red flag, since the  orginal starting price of a real vapormax  Is ₹19,000 and being sold at 7k seems to  .... Good to be true10) the vapormax logo is also attached  externally by glueThis is completely fake\\n\\n',\n",
       " '\\n\\n  I advise you to buy onces because I am also have two mind to buy but I finally buy and my choice is too best ...I very much happy to buy👌👌👌👌👌\\n\\n',\n",
       " '\\n\\n  Bought these for my hubby.He loved these.They were just as described & ORIGINAL NIKE👟.The size was right✅. Got the delivery on time as well.Thanks a lot to the seller & Amazon that we got these on discounted price & yet original😊\\n\\n',\n",
       " '\\n\\n  Bad quality shoe. Toe Pains after running. Not worth. Better buy such costly shoes directly from the store after checking properly.\\n\\n']"
      ]
     },
     "execution_count": 29,
     "metadata": {},
     "output_type": "execute_result"
    }
   ],
   "source": [
    "review_content=[]\n",
    "for i in range(0,len(review)):\n",
    "    review_content.append(review[i].get_text())\n",
    "review_content"
   ]
  },
  {
   "cell_type": "code",
   "execution_count": 30,
   "metadata": {},
   "outputs": [
    {
     "data": {
      "text/plain": [
       "['\\n\\n  Change my item',\n",
       " '\\n\\n  Fake product. With damaged box.',\n",
       " \"\\n\\n  Squeaking so badly it's embarrassing to walk in sophisticated places\",\n",
       " '\\n\\n  Doubtful by 5% on the authenticity. Looks and feels good rest will see how they go in a long run.',\n",
       " '\\n\\n  Style - 5 starComfort -3 starThis will make you famous but you would need insoles for additional comfort. Not recommended for runners. For gym is best ...',\n",
       " '\\n\\n  it is not made like other vapourmax. This is made of too much plastic and not like the original knitted shoes of vapourmax. This shoe looks too like a raincoat made of plastic. I hope it isnt a fake vapourmax',\n",
       " '\\n\\n  This shoe is a complete scam1) It came in a half torn box2) has a very bad dull color3) its made completely out of the worst  quality reused plastic4) your feet will ache while wearing them5) it squeaks while walking and gives no  support for comfort6) the nike logo is attached by glue7) the size given is fake, and externally  attached outside the shoe8) the shoe lace is from another shoe9) this shoe is a big red flag, since the  orginal starting price of a real vapormax  Is ₹19,000 and being sold at 7k seems to  .... Good to be true10) the vapormax logo is also attached  externally by glueThis is completely fake',\n",
       " '\\n\\n  I advise you to buy onces because I am also have two mind to buy but I finally buy and my choice is too best ...I very much happy to buy👌👌👌👌👌',\n",
       " '\\n\\n  Bought these for my hubby.He loved these.They were just as described & ORIGINAL NIKE👟.The size was right✅. Got the delivery on time as well.Thanks a lot to the seller & Amazon that we got these on discounted price & yet original😊',\n",
       " '\\n\\n  Bad quality shoe. Toe Pains after running. Not worth. Better buy such costly shoes directly from the store after checking properly.']"
      ]
     },
     "execution_count": 30,
     "metadata": {},
     "output_type": "execute_result"
    }
   ],
   "source": [
    "review_content[:]=[reviews.rstrip('\\n\\n') for reviews in review_content]\n",
    "review_content"
   ]
  },
  {
   "cell_type": "code",
   "execution_count": 31,
   "metadata": {},
   "outputs": [
    {
     "data": {
      "text/plain": [
       "['  Change my item',\n",
       " '  Fake product. With damaged box.',\n",
       " \"  Squeaking so badly it's embarrassing to walk in sophisticated places\",\n",
       " '  Doubtful by 5% on the authenticity. Looks and feels good rest will see how they go in a long run.',\n",
       " '  Style - 5 starComfort -3 starThis will make you famous but you would need insoles for additional comfort. Not recommended for runners. For gym is best ...',\n",
       " '  it is not made like other vapourmax. This is made of too much plastic and not like the original knitted shoes of vapourmax. This shoe looks too like a raincoat made of plastic. I hope it isnt a fake vapourmax',\n",
       " '  This shoe is a complete scam1) It came in a half torn box2) has a very bad dull color3) its made completely out of the worst  quality reused plastic4) your feet will ache while wearing them5) it squeaks while walking and gives no  support for comfort6) the nike logo is attached by glue7) the size given is fake, and externally  attached outside the shoe8) the shoe lace is from another shoe9) this shoe is a big red flag, since the  orginal starting price of a real vapormax  Is ₹19,000 and being sold at 7k seems to  .... Good to be true10) the vapormax logo is also attached  externally by glueThis is completely fake',\n",
       " '  I advise you to buy onces because I am also have two mind to buy but I finally buy and my choice is too best ...I very much happy to buy👌👌👌👌👌',\n",
       " '  Bought these for my hubby.He loved these.They were just as described & ORIGINAL NIKE👟.The size was right✅. Got the delivery on time as well.Thanks a lot to the seller & Amazon that we got these on discounted price & yet original😊',\n",
       " '  Bad quality shoe. Toe Pains after running. Not worth. Better buy such costly shoes directly from the store after checking properly.']"
      ]
     },
     "execution_count": 31,
     "metadata": {},
     "output_type": "execute_result"
    }
   ],
   "source": [
    "review_content[:]=[reviews.lstrip('\\n\\n') for reviews in review_content]\n",
    "review_content"
   ]
  },
  {
   "cell_type": "code",
   "execution_count": 32,
   "metadata": {},
   "outputs": [
    {
     "data": {
      "text/plain": [
       "10"
      ]
     },
     "execution_count": 32,
     "metadata": {},
     "output_type": "execute_result"
    }
   ],
   "source": [
    "len(review_content)"
   ]
  },
  {
   "cell_type": "code",
   "execution_count": 33,
   "metadata": {},
   "outputs": [
    {
     "data": {
      "text/plain": [
       "['  Change my item',\n",
       " '  Fake product. With damaged box.',\n",
       " \"  Squeaking so badly it's embarrassing to walk in sophisticated places\",\n",
       " '  Doubtful by 5% on the authenticity. Looks and feels good rest will see how they go in a long run.',\n",
       " '  Style - 5 starComfort -3 starThis will make you famous but you would need insoles for additional comfort. Not recommended for runners. For gym is best ...',\n",
       " '  it is not made like other vapourmax. This is made of too much plastic and not like the original knitted shoes of vapourmax. This shoe looks too like a raincoat made of plastic. I hope it isnt a fake vapourmax',\n",
       " '  This shoe is a complete scam1) It came in a half torn box2) has a very bad dull color3) its made completely out of the worst  quality reused plastic4) your feet will ache while wearing them5) it squeaks while walking and gives no  support for comfort6) the nike logo is attached by glue7) the size given is fake, and externally  attached outside the shoe8) the shoe lace is from another shoe9) this shoe is a big red flag, since the  orginal starting price of a real vapormax  Is ₹19,000 and being sold at 7k seems to  .... Good to be true10) the vapormax logo is also attached  externally by glueThis is completely fake',\n",
       " '  I advise you to buy onces because I am also have two mind to buy but I finally buy and my choice is too best ...I very much happy to buy👌👌👌👌👌',\n",
       " '  Bought these for my hubby.He loved these.They were just as described & ORIGINAL NIKE👟.The size was right✅. Got the delivery on time as well.Thanks a lot to the seller & Amazon that we got these on discounted price & yet original😊',\n",
       " '  Bad quality shoe. Toe Pains after running. Not worth. Better buy such costly shoes directly from the store after checking properly.']"
      ]
     },
     "execution_count": 33,
     "metadata": {},
     "output_type": "execute_result"
    }
   ],
   "source": [
    "cust_name\n",
    "review_title\n",
    "rate\n",
    "review_content"
   ]
  },
  {
   "cell_type": "code",
   "execution_count": 36,
   "metadata": {},
   "outputs": [],
   "source": [
    "import pandas as pd\n",
    "df=pd.DataFrame()\n",
    "df['customer name']=cust_name"
   ]
  },
  {
   "cell_type": "code",
   "execution_count": 37,
   "metadata": {},
   "outputs": [
    {
     "data": {
      "text/html": [
       "<div>\n",
       "<style scoped>\n",
       "    .dataframe tbody tr th:only-of-type {\n",
       "        vertical-align: middle;\n",
       "    }\n",
       "\n",
       "    .dataframe tbody tr th {\n",
       "        vertical-align: top;\n",
       "    }\n",
       "\n",
       "    .dataframe thead th {\n",
       "        text-align: right;\n",
       "    }\n",
       "</style>\n",
       "<table border=\"1\" class=\"dataframe\">\n",
       "  <thead>\n",
       "    <tr style=\"text-align: right;\">\n",
       "      <th></th>\n",
       "      <th>customer name</th>\n",
       "      <th>Review Title</th>\n",
       "      <th>Rating</th>\n",
       "      <th>Reviews</th>\n",
       "    </tr>\n",
       "  </thead>\n",
       "  <tbody>\n",
       "    <tr>\n",
       "      <th>0</th>\n",
       "      <td>Mahesh Kumar</td>\n",
       "      <td>Bad</td>\n",
       "      <td>1.0 out of 5 stars</td>\n",
       "      <td>Change my item</td>\n",
       "    </tr>\n",
       "    <tr>\n",
       "      <th>1</th>\n",
       "      <td>vai8hav mishra</td>\n",
       "      <td>They send me 1st copy shoes</td>\n",
       "      <td>1.0 out of 5 stars</td>\n",
       "      <td>Fake product. With damaged box.</td>\n",
       "    </tr>\n",
       "    <tr>\n",
       "      <th>2</th>\n",
       "      <td>Dr Dilip Shah</td>\n",
       "      <td>Squeaker are the Vapormax of Nike</td>\n",
       "      <td>2.0 out of 5 stars</td>\n",
       "      <td>Squeaking so badly it's embarrassing to walk...</td>\n",
       "    </tr>\n",
       "    <tr>\n",
       "      <th>3</th>\n",
       "      <td>Anurag</td>\n",
       "      <td>Looks good</td>\n",
       "      <td>4.0 out of 5 stars</td>\n",
       "      <td>Doubtful by 5% on the authenticity. Looks an...</td>\n",
       "    </tr>\n",
       "    <tr>\n",
       "      <th>4</th>\n",
       "      <td>Sathish</td>\n",
       "      <td>Stylish n people can’t stop looking at your shoes</td>\n",
       "      <td>4.0 out of 5 stars</td>\n",
       "      <td>Style - 5 starComfort -3 starThis will make ...</td>\n",
       "    </tr>\n",
       "    <tr>\n",
       "      <th>5</th>\n",
       "      <td>Atul Bagai</td>\n",
       "      <td>Vapourmax Shoes</td>\n",
       "      <td>2.0 out of 5 stars</td>\n",
       "      <td>it is not made like other vapourmax. This is...</td>\n",
       "    </tr>\n",
       "    <tr>\n",
       "      <th>6</th>\n",
       "      <td>Binay Kumar Singh</td>\n",
       "      <td>Its a scam, the shoe is completely fake</td>\n",
       "      <td>1.0 out of 5 stars</td>\n",
       "      <td>This shoe is a complete scam1) It came in a ...</td>\n",
       "    </tr>\n",
       "    <tr>\n",
       "      <th>7</th>\n",
       "      <td>Siddhant patel</td>\n",
       "      <td>World best shoes</td>\n",
       "      <td>5.0 out of 5 stars</td>\n",
       "      <td>I advise you to buy onces because I am also ...</td>\n",
       "    </tr>\n",
       "    <tr>\n",
       "      <th>8</th>\n",
       "      <td>greens</td>\n",
       "      <td>ORIGINAL ✅NIKE👍</td>\n",
       "      <td>5.0 out of 5 stars</td>\n",
       "      <td>Bought these for my hubby.He loved these.The...</td>\n",
       "    </tr>\n",
       "    <tr>\n",
       "      <th>9</th>\n",
       "      <td>Himanshu</td>\n",
       "      <td>Not satisfied</td>\n",
       "      <td>2.0 out of 5 stars</td>\n",
       "      <td>Bad quality shoe. Toe Pains after running. N...</td>\n",
       "    </tr>\n",
       "  </tbody>\n",
       "</table>\n",
       "</div>"
      ],
      "text/plain": [
       "       customer name                                       Review Title  \\\n",
       "0       Mahesh Kumar                                                Bad   \n",
       "1     vai8hav mishra                        They send me 1st copy shoes   \n",
       "2      Dr Dilip Shah                  Squeaker are the Vapormax of Nike   \n",
       "3             Anurag                                         Looks good   \n",
       "4            Sathish  Stylish n people can’t stop looking at your shoes   \n",
       "5         Atul Bagai                                    Vapourmax Shoes   \n",
       "6  Binay Kumar Singh            Its a scam, the shoe is completely fake   \n",
       "7     Siddhant patel                                   World best shoes   \n",
       "8             greens                                    ORIGINAL ✅NIKE👍   \n",
       "9           Himanshu                                      Not satisfied   \n",
       "\n",
       "               Rating                                            Reviews  \n",
       "0  1.0 out of 5 stars                                     Change my item  \n",
       "1  1.0 out of 5 stars                    Fake product. With damaged box.  \n",
       "2  2.0 out of 5 stars    Squeaking so badly it's embarrassing to walk...  \n",
       "3  4.0 out of 5 stars    Doubtful by 5% on the authenticity. Looks an...  \n",
       "4  4.0 out of 5 stars    Style - 5 starComfort -3 starThis will make ...  \n",
       "5  2.0 out of 5 stars    it is not made like other vapourmax. This is...  \n",
       "6  1.0 out of 5 stars    This shoe is a complete scam1) It came in a ...  \n",
       "7  5.0 out of 5 stars    I advise you to buy onces because I am also ...  \n",
       "8  5.0 out of 5 stars    Bought these for my hubby.He loved these.The...  \n",
       "9  2.0 out of 5 stars    Bad quality shoe. Toe Pains after running. N...  "
      ]
     },
     "execution_count": 37,
     "metadata": {},
     "output_type": "execute_result"
    }
   ],
   "source": [
    "df['Review Title']=review_title\n",
    "df['Rating']=rate\n",
    "df['Reviews']=review_content\n",
    "df"
   ]
  },
  {
   "cell_type": "code",
   "execution_count": null,
   "metadata": {},
   "outputs": [],
   "source": []
  }
 ],
 "metadata": {
  "kernelspec": {
   "display_name": "Python 3",
   "language": "python",
   "name": "python3"
  },
  "language_info": {
   "codemirror_mode": {
    "name": "ipython",
    "version": 3
   },
   "file_extension": ".py",
   "mimetype": "text/x-python",
   "name": "python",
   "nbconvert_exporter": "python",
   "pygments_lexer": "ipython3",
   "version": "3.7.6"
  }
 },
 "nbformat": 4,
 "nbformat_minor": 4
}
